{
  "nbformat": 4,
  "nbformat_minor": 0,
  "metadata": {
    "colab": {
      "name": "classification.ipynb",
      "provenance": [],
      "authorship_tag": "ABX9TyMrJuRMFSMs78QBaNUo1WYq",
      "include_colab_link": true
    },
    "kernelspec": {
      "name": "python3",
      "display_name": "Python 3"
    },
    "language_info": {
      "name": "python"
    }
  },
  "cells": [
    {
      "cell_type": "markdown",
      "metadata": {
        "id": "view-in-github",
        "colab_type": "text"
      },
      "source": [
        "<a href=\"https://colab.research.google.com/github/ivandean1985/deepai/blob/main/classification.ipynb\" target=\"_parent\"><img src=\"https://colab.research.google.com/assets/colab-badge.svg\" alt=\"Open In Colab\"/></a>"
      ]
    },
    {
      "cell_type": "code",
      "metadata": {
        "id": "FU2VQvgOyCD8"
      },
      "source": [
        "import pandas as pd\n",
        "from sklearn.datasets import load_iris\n",
        "iris = load_iris()\n",
        "# ＤataFrame: table. Series: line/row.\n",
        "df = pd.DataFrame(iris[\"data\"],\n",
        "                  columns=iris[\"feature_names\"])\n",
        "df[\"answer\"] = iris[\"target\"]\n",
        "df.to_csv(\"iris.csv\",encoding=\"utf-8\", index=False)\n",
        "df"
      ],
      "execution_count": null,
      "outputs": []
    },
    {
      "cell_type": "code",
      "metadata": {
        "colab": {
          "base_uri": "https://localhost:8080/"
        },
        "id": "AdDVNzQROMIC",
        "outputId": "4104330c-c8fd-4482-a6cb-04e5d9c6b35d"
      },
      "source": [
        "#train_test_split 切分使用\n",
        "from sklearn.model_selection  import train_test_split\n",
        "train_test_split([1,2,3,4],\n",
        "                 [5,6,7,8],\n",
        "                 [9,10,11,12],\n",
        "                 test_size=0.25)"
      ],
      "execution_count": 17,
      "outputs": [
        {
          "output_type": "execute_result",
          "data": {
            "text/plain": [
              "[[3, 2, 4], [1], [7, 6, 8], [5], [11, 10, 12], [9]]"
            ]
          },
          "metadata": {
            "tags": []
          },
          "execution_count": 17
        }
      ]
    },
    {
      "cell_type": "code",
      "metadata": {
        "id": "NTmPKCCiP1QS"
      },
      "source": [
        "#sklearn \n",
        "import numpy as np\n",
        "from sklearn.model_selection  import train_test_split\n",
        "x, y = np.array(df.drop([\"answer\"], axis=1)), np.array(df[\"answer\"])\n",
        "x_tranin, x_test, y_train, y_test = train_test_split(x,\n",
        "                                  y,\n",
        "                                  test_size=0.1)\n",
        "print(x_tranin.shape)\n",
        "print(x_test.shape)\n",
        "print(y_train.shape)\n",
        "print(y_test.shape)"
      ],
      "execution_count": null,
      "outputs": []
    },
    {
      "cell_type": "code",
      "metadata": {
        "id": "5OCPSnTLVG08"
      },
      "source": [
        "from sklearn.tree import DecisionTreeClassifier\n",
        "clf = DecisionTreeClassifier()\n",
        "clf.fit(x_tranin, y_train)"
      ],
      "execution_count": null,
      "outputs": []
    },
    {
      "cell_type": "code",
      "metadata": {
        "id": "yB0824DeZcCu"
      },
      "source": [
        "import matplotlib.pyplot as plt\n",
        "from sklearn.tree import plot_tree\n",
        "plt.figure(figsize=(10,10))\n",
        "plot_tree(clf, \n",
        "          feature_names=iris[\"feature_names\"],\n",
        "          class_names=iris[\"target_names\"],\n",
        "          filled=True)"
      ],
      "execution_count": null,
      "outputs": []
    },
    {
      "cell_type": "code",
      "metadata": {
        "colab": {
          "base_uri": "https://localhost:8080/"
        },
        "id": "UOxguYw1ltTX",
        "outputId": "6df37075-bcc8-4048-d80c-f4495f85e0d1"
      },
      "source": [
        "from sklearn.metrics import accuracy_score\n",
        "pre = clf.predict(x_test)\n",
        "accuracy_score(pre, y_test)"
      ],
      "execution_count": 26,
      "outputs": [
        {
          "output_type": "execute_result",
          "data": {
            "text/plain": [
              "0.8666666666666667"
            ]
          },
          "metadata": {
            "tags": []
          },
          "execution_count": 26
        }
      ]
    }
  ]
}