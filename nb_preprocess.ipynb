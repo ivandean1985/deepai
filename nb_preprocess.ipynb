{
  "nbformat": 4,
  "nbformat_minor": 0,
  "metadata": {
    "colab": {
      "name": "nb_preprocess.ipynb",
      "provenance": [],
      "authorship_tag": "ABX9TyONtk5XarNa0CzEAFqyIGAR",
      "include_colab_link": true
    },
    "kernelspec": {
      "name": "python3",
      "display_name": "Python 3"
    },
    "language_info": {
      "name": "python"
    }
  },
  "cells": [
    {
      "cell_type": "markdown",
      "metadata": {
        "id": "view-in-github",
        "colab_type": "text"
      },
      "source": [
        "<a href=\"https://colab.research.google.com/github/ivandean1985/deepai/blob/main/nb_preprocess.ipynb\" target=\"_parent\"><img src=\"https://colab.research.google.com/assets/colab-badge.svg\" alt=\"Open In Colab\"/></a>"
      ]
    },
    {
      "cell_type": "code",
      "metadata": {
        "id": "RCui8yfpXea5"
      },
      "source": [
        "!pip install opencc-python-reimplemented"
      ],
      "execution_count": null,
      "outputs": []
    },
    {
      "cell_type": "code",
      "metadata": {
        "id": "ijY2mdTEYf7A"
      },
      "source": [
        "to_convert = \"\"\"训练词向量等一些任务的时候，往往需要一些较大规模的中文语料，而维基百科语料是一个很好的选择。维基百科每段时间都会备份数据，我们可以选择不同时间段的语料来下载使用。​\n",
        "\n",
        "1.下载维基百科语料\n",
        "下面就是维基百科的语料的下载地址：\"\"\""
      ],
      "execution_count": 3,
      "outputs": []
    },
    {
      "cell_type": "code",
      "metadata": {
        "colab": {
          "base_uri": "https://localhost:8080/",
          "height": 52
        },
        "id": "vN04jER4YkiU",
        "outputId": "8e514e24-6264-4d1d-b4c4-d1ee2ded199f"
      },
      "source": [
        "\n",
        "from opencc import OpenCC\n",
        "cc = OpenCC('s2tw')\n",
        "converted = cc.convert(to_convert)\n",
        "converted"
      ],
      "execution_count": 4,
      "outputs": [
        {
          "output_type": "execute_result",
          "data": {
            "application/vnd.google.colaboratory.intrinsic+json": {
              "type": "string"
            },
            "text/plain": [
              "'訓練詞向量等一些任務的時候，往往需要一些較大規模的中文語料，而維基百科語料是一個很好的選擇。維基百科每段時間都會備份數據，我們可以選擇不同時間段的語料來下載使用。\\u200b\\n\\n1.下載維基百科語料\\n下面就是維基百科的語料的下載地址：'"
            ]
          },
          "metadata": {
            "tags": []
          },
          "execution_count": 4
        }
      ]
    }
  ]
}