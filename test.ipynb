{
  "nbformat": 4,
  "nbformat_minor": 0,
  "metadata": {
    "colab": {
      "name": "test.ipynb",
      "provenance": [],
      "collapsed_sections": [],
      "authorship_tag": "ABX9TyNUFPNbYFd3eQautBv+IWpS",
      "include_colab_link": true
    },
    "kernelspec": {
      "name": "python3",
      "display_name": "Python 3"
    },
    "language_info": {
      "name": "python"
    },
    "accelerator": "GPU"
  },
  "cells": [
    {
      "cell_type": "markdown",
      "metadata": {
        "id": "view-in-github",
        "colab_type": "text"
      },
      "source": [
        "<a href=\"https://colab.research.google.com/github/ivandean1985/deepai/blob/main/test.ipynb\" target=\"_parent\"><img src=\"https://colab.research.google.com/assets/colab-badge.svg\" alt=\"Open In Colab\"/></a>"
      ]
    },
    {
      "cell_type": "code",
      "metadata": {
        "id": "CYD1wx3bdnO2",
        "colab": {
          "base_uri": "https://localhost:8080/"
        },
        "outputId": "37044fbd-1ec4-409c-999d-08161ed96995"
      },
      "source": [
        "a = 3\n",
        "b = 2\n",
        "\n",
        "a+b"
      ],
      "execution_count": 1,
      "outputs": [
        {
          "output_type": "execute_result",
          "data": {
            "text/plain": [
              "5"
            ]
          },
          "metadata": {
            "tags": []
          },
          "execution_count": 1
        }
      ]
    },
    {
      "cell_type": "markdown",
      "metadata": {
        "id": "l9vuYu_3mkBl"
      },
      "source": [
        "markdowm 語法需要了解\n",
        "latex math 語法需要理解 數學插件包\n",
        "#test\n",
        "\n",
        "##chapter 1\n",
        "\n",
        "$ c = \\frac {1} {a + 2} $\n",
        "\n"
      ]
    }
  ]
}